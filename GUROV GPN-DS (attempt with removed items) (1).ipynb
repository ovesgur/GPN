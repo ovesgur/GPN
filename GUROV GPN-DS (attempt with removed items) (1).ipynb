{
 "cells": [
  {
   "cell_type": "markdown",
   "metadata": {},
   "source": [
    "# Выполнение тестового задания GPN-CUP | OVESGUR"
   ]
  },
  {
   "cell_type": "markdown",
   "metadata": {},
   "source": [
    "### Задача:"
   ]
  },
  {
   "cell_type": "markdown",
   "metadata": {},
   "source": [
    "Для увеличения продаж товаров из следующих групп: <br/>\n",
    "•\tвода <br/>\n",
    "•\tсладкие газированные напитки, холодный чай <br/>\n",
    "•\tкофейные напитки с молоком <br/>\n",
    "•\tэнергетические напитки <br/>\n",
    "•\tснеки <br/>\n",
    "•\tсоки и сокосодержащие напитки <br/>\n",
    "\n",
    "<b>Необходимо разработать рекомендательную систему, которая будет предлагать покупателям 20 дополнительных товаров в чек.</b>"
   ]
  },
  {
   "cell_type": "markdown",
   "metadata": {},
   "source": [
    "### Список исходных файлов"
   ]
  },
  {
   "cell_type": "code",
   "execution_count": 1,
   "metadata": {
    "scrolled": true
   },
   "outputs": [
    {
     "data": {
      "text/plain": [
       "['gpn-cup-2021-data_science_task.docx',\n",
       " 'nomenclature.parquet',\n",
       " 'submission-example.parquet',\n",
       " 'transactions-for_submission.parquet',\n",
       " 'transactions.parquet']"
      ]
     },
     "execution_count": 1,
     "metadata": {},
     "output_type": "execute_result"
    }
   ],
   "source": [
    "import os\n",
    "file_list = os.listdir(\"gpn-data\")\n",
    "file_list"
   ]
  },
  {
   "cell_type": "markdown",
   "metadata": {},
   "source": [
    "### Transactions"
   ]
  },
  {
   "cell_type": "code",
   "execution_count": 2,
   "metadata": {
    "scrolled": true
   },
   "outputs": [
    {
     "data": {
      "text/html": [
       "<div>\n",
       "<style scoped>\n",
       "    .dataframe tbody tr th:only-of-type {\n",
       "        vertical-align: middle;\n",
       "    }\n",
       "\n",
       "    .dataframe tbody tr th {\n",
       "        vertical-align: top;\n",
       "    }\n",
       "\n",
       "    .dataframe thead th {\n",
       "        text-align: right;\n",
       "    }\n",
       "</style>\n",
       "<table border=\"1\" class=\"dataframe\">\n",
       "  <thead>\n",
       "    <tr style=\"text-align: right;\">\n",
       "      <th></th>\n",
       "      <th>sku_id</th>\n",
       "      <th>price</th>\n",
       "      <th>number</th>\n",
       "      <th>cheque_id</th>\n",
       "      <th>litrs</th>\n",
       "      <th>client_id</th>\n",
       "      <th>shop_id</th>\n",
       "      <th>date</th>\n",
       "    </tr>\n",
       "  </thead>\n",
       "  <tbody>\n",
       "    <tr>\n",
       "      <th>0</th>\n",
       "      <td>1158</td>\n",
       "      <td>0.002335</td>\n",
       "      <td>0.000000</td>\n",
       "      <td>3338297</td>\n",
       "      <td>0.147929</td>\n",
       "      <td>78634.0</td>\n",
       "      <td>102</td>\n",
       "      <td>2171-07-23</td>\n",
       "    </tr>\n",
       "    <tr>\n",
       "      <th>1</th>\n",
       "      <td>1158</td>\n",
       "      <td>0.002317</td>\n",
       "      <td>0.000000</td>\n",
       "      <td>3386107</td>\n",
       "      <td>0.134562</td>\n",
       "      <td>20900.0</td>\n",
       "      <td>101</td>\n",
       "      <td>2171-07-23</td>\n",
       "    </tr>\n",
       "    <tr>\n",
       "      <th>2</th>\n",
       "      <td>1913</td>\n",
       "      <td>0.007850</td>\n",
       "      <td>0.000452</td>\n",
       "      <td>1845331</td>\n",
       "      <td>0.104183</td>\n",
       "      <td>96397.0</td>\n",
       "      <td>36</td>\n",
       "      <td>2171-07-23</td>\n",
       "    </tr>\n",
       "    <tr>\n",
       "      <th>3</th>\n",
       "      <td>1808</td>\n",
       "      <td>0.008979</td>\n",
       "      <td>0.000452</td>\n",
       "      <td>2256499</td>\n",
       "      <td>0.104183</td>\n",
       "      <td>103560.0</td>\n",
       "      <td>89</td>\n",
       "      <td>2171-07-23</td>\n",
       "    </tr>\n",
       "    <tr>\n",
       "      <th>4</th>\n",
       "      <td>1158</td>\n",
       "      <td>0.002355</td>\n",
       "      <td>0.000000</td>\n",
       "      <td>3257281</td>\n",
       "      <td>0.115023</td>\n",
       "      <td>67691.0</td>\n",
       "      <td>58</td>\n",
       "      <td>2171-07-23</td>\n",
       "    </tr>\n",
       "  </tbody>\n",
       "</table>\n",
       "</div>"
      ],
      "text/plain": [
       "   sku_id     price    number  cheque_id     litrs  client_id  shop_id  \\\n",
       "0    1158  0.002335  0.000000    3338297  0.147929    78634.0      102   \n",
       "1    1158  0.002317  0.000000    3386107  0.134562    20900.0      101   \n",
       "2    1913  0.007850  0.000452    1845331  0.104183    96397.0       36   \n",
       "3    1808  0.008979  0.000452    2256499  0.104183   103560.0       89   \n",
       "4    1158  0.002355  0.000000    3257281  0.115023    67691.0       58   \n",
       "\n",
       "        date  \n",
       "0 2171-07-23  \n",
       "1 2171-07-23  \n",
       "2 2171-07-23  \n",
       "3 2171-07-23  \n",
       "4 2171-07-23  "
      ]
     },
     "execution_count": 2,
     "metadata": {},
     "output_type": "execute_result"
    }
   ],
   "source": [
    "import pandas as pd\n",
    "transactions = pd.read_parquet('gpn-data/'+file_list[4])\n",
    "transactions.head()"
   ]
  },
  {
   "cell_type": "markdown",
   "metadata": {},
   "source": [
    "•\tsku_id – уникальный идентификатор товара <br/>\n",
    "•\tprice – цена, по которой был продан товар <br/>\n",
    "•\tnumber – количество товаров (если не топливо) <br/> \n",
    "•\tcheque_id – уникальный идентификатор чека <br/>\n",
    "•\tlitrs – количество литров (если товар - топливо) <br/>\n",
    "•\tclient_id – уникальный идентификатор клиента (если клиент «представился» при покупке) <br/>\n",
    "•\tshop_id – уникальный идентификатор магазина <br/>\n",
    "•\tdate – дата транзакции <br/>"
   ]
  },
  {
   "cell_type": "markdown",
   "metadata": {},
   "source": [
    "### Nomenclature"
   ]
  },
  {
   "cell_type": "code",
   "execution_count": 3,
   "metadata": {
    "scrolled": true
   },
   "outputs": [
    {
     "data": {
      "text/html": [
       "<div>\n",
       "<style scoped>\n",
       "    .dataframe tbody tr th:only-of-type {\n",
       "        vertical-align: middle;\n",
       "    }\n",
       "\n",
       "    .dataframe tbody tr th {\n",
       "        vertical-align: top;\n",
       "    }\n",
       "\n",
       "    .dataframe thead th {\n",
       "        text-align: right;\n",
       "    }\n",
       "</style>\n",
       "<table border=\"1\" class=\"dataframe\">\n",
       "  <thead>\n",
       "    <tr style=\"text-align: right;\">\n",
       "      <th></th>\n",
       "      <th>sku_id</th>\n",
       "      <th>full_name</th>\n",
       "      <th>brand</th>\n",
       "      <th>sku_group</th>\n",
       "      <th>OTM</th>\n",
       "      <th>units</th>\n",
       "      <th>country</th>\n",
       "    </tr>\n",
       "  </thead>\n",
       "  <tbody>\n",
       "    <tr>\n",
       "      <th>0</th>\n",
       "      <td>0</td>\n",
       "      <td>Масло Lubricrol Magnatec Diesel 10W-40 B4 1л</td>\n",
       "      <td>Lubricrol</td>\n",
       "      <td>Масла моторные (для варповых двигателей)</td>\n",
       "      <td>Нет</td>\n",
       "      <td>unknown</td>\n",
       "      <td>ГЕРМАНИЯ</td>\n",
       "    </tr>\n",
       "    <tr>\n",
       "      <th>1</th>\n",
       "      <td>723</td>\n",
       "      <td>Трос УранПРОМEthereum буксировочный 4500кг</td>\n",
       "      <td>УранПРОМEthereum</td>\n",
       "      <td>Автотовары</td>\n",
       "      <td>Да</td>\n",
       "      <td>шт</td>\n",
       "      <td>РОССИЯ</td>\n",
       "    </tr>\n",
       "    <tr>\n",
       "      <th>2</th>\n",
       "      <td>3397</td>\n",
       "      <td>Накидка УранПРОМEthereum на спинку автосиденья...</td>\n",
       "      <td>УранПРОМEthereum</td>\n",
       "      <td>Автотовары</td>\n",
       "      <td>Да</td>\n",
       "      <td>шт</td>\n",
       "      <td>unknown</td>\n",
       "    </tr>\n",
       "    <tr>\n",
       "      <th>3</th>\n",
       "      <td>2130</td>\n",
       "      <td>Жилет УранПРОМEthereum световозвращающий</td>\n",
       "      <td>УранПРОМEthereum</td>\n",
       "      <td>Автотовары</td>\n",
       "      <td>Да</td>\n",
       "      <td>шт</td>\n",
       "      <td>unknown</td>\n",
       "    </tr>\n",
       "    <tr>\n",
       "      <th>4</th>\n",
       "      <td>3150</td>\n",
       "      <td>Провода УранПРОМEthereum для прикуривания 200А</td>\n",
       "      <td>УранПРОМEthereum</td>\n",
       "      <td>Автотовары</td>\n",
       "      <td>Да</td>\n",
       "      <td>шт</td>\n",
       "      <td>РОССИЯ</td>\n",
       "    </tr>\n",
       "  </tbody>\n",
       "</table>\n",
       "</div>"
      ],
      "text/plain": [
       "   sku_id                                          full_name  \\\n",
       "0       0       Масло Lubricrol Magnatec Diesel 10W-40 B4 1л   \n",
       "1     723         Трос УранПРОМEthereum буксировочный 4500кг   \n",
       "2    3397  Накидка УранПРОМEthereum на спинку автосиденья...   \n",
       "3    2130           Жилет УранПРОМEthereum световозвращающий   \n",
       "4    3150     Провода УранПРОМEthereum для прикуривания 200А   \n",
       "\n",
       "              brand                                 sku_group  OTM    units  \\\n",
       "0         Lubricrol  Масла моторные (для варповых двигателей)  Нет  unknown   \n",
       "1  УранПРОМEthereum                                Автотовары   Да       шт   \n",
       "2  УранПРОМEthereum                                Автотовары   Да       шт   \n",
       "3  УранПРОМEthereum                                Автотовары   Да       шт   \n",
       "4  УранПРОМEthereum                                Автотовары   Да       шт   \n",
       "\n",
       "    country  \n",
       "0  ГЕРМАНИЯ  \n",
       "1    РОССИЯ  \n",
       "2   unknown  \n",
       "3   unknown  \n",
       "4    РОССИЯ  "
      ]
     },
     "execution_count": 3,
     "metadata": {},
     "output_type": "execute_result"
    }
   ],
   "source": [
    "nomenclature = pd.read_parquet('gpn-data/'+file_list[1])\n",
    "nomenclature.head()"
   ]
  },
  {
   "cell_type": "markdown",
   "metadata": {},
   "source": [
    "•\tsku_id – уникальный идентификатор товара <br/>\n",
    "•\tfull_name – полное наименование товара <br/>\n",
    "•\tbrand – наименование торговой марки <br/>\n",
    "•\tsku_group – группа, к которой принадлежит товар <br/>\n",
    "•\tOTM – признак собственной торговой марки <br/>\n",
    "•\tunits – единица измерения для количества <br/>\n",
    "•\tcountry – страна производства товара <br/>"
   ]
  },
  {
   "cell_type": "code",
   "execution_count": 4,
   "metadata": {},
   "outputs": [
    {
     "name": "stdout",
     "output_type": "stream",
     "text": [
      "Кондитерские изделия                                               714\n",
      "Сезонные товары                                                    649\n",
      "Автотовары                                                         516\n",
      "Общественное питание                                               441\n",
      "Уход за автомобилем                                                426\n",
      "Хозяйственные товары, персональный уход                            423\n",
      "Снеки                                                              360\n",
      "Табачные изделия                                                   264\n",
      "Гастроном                                                          196\n",
      "Сладкие Уранированные напитки, холодный чай                        184\n",
      "Соки и сокосодержащие напитки                                      145\n",
      "Вода                                                               144\n",
      "Прочие напитки кафе                                                144\n",
      "Бакалея                                                             95\n",
      "Очки для водителя                                                   92\n",
      "Кофейные напитки с молоком                                          80\n",
      "Энергетические напитки                                              61\n",
      "Автохимия и автокосметика (кроме масел, смазок и СОЖ)               52\n",
      "СОЖ                                                                 29\n",
      "Масла моторные (для Ethereumовых двигателей)                        26\n",
      "Масла моторные (для Ethereumовых двигателей) \"УранПромEtherium\"     19\n",
      "Тиражная лотерея                                                     6\n",
      "Услуги АЗС/АЗК                                                       5\n",
      "Масла моторные (для варповых двигателей)\"УранПромEtherium\"           4\n",
      "Масла прочие \"УранПромEtherium\"                                      3\n",
      "Масла моторные (для варповых двигателей)                             3\n",
      "Смазки пластичные \"УранПромEtherium\"                                 3\n",
      "Масла трансмиссионные \"УранПромEtherium\"                             3\n",
      "Пиво                                                                 3\n",
      "Масла трансмиссионные                                                2\n",
      "Услуги мойки                                                         1\n",
      "Карты лояльности                                                     1\n",
      "Ethereum 92                                                          1\n",
      "Ethereum 95 бренд                                                    1\n",
      "Топливо варповое с присадками летнее                                 1\n",
      "Топливо варповое зимнее                                              1\n",
      "Ethereum 95                                                          1\n",
      "Топливо варповое с присадками зимнее                                 1\n",
      "Ethereum 100 бренд                                                   1\n",
      "Топливо варповое летнее                                              1\n",
      "Топливо варповое с присадками межсезонное                            1\n",
      "Name: sku_group, dtype: int64\n"
     ]
    }
   ],
   "source": [
    "print(nomenclature.sku_group.value_counts())\n",
    "\n",
    "#Категории для рекомендации\n",
    "categories_for_sale = [\n",
    "    'Вода', 'Сладкие Уранированные напитки, холодный чай', 'Кофейные напитки с молоком', 'Энергетические напитки', 'Снеки', 'Соки и сокосодержащие напитки'\n",
    "]\n",
    "\n",
    "#Оставляем только товары с именем и с нужной категорией\n",
    "items_ids = nomenclature[nomenclature.sku_group.isin(categories_for_sale)].sku_id\n",
    "items_ids = items_ids[~items_ids.isin(nomenclature[nomenclature.full_name == 'unknown'].sku_id)]\n",
    "transactions = transactions[transactions.sku_id.isin(items_ids)]\n",
    "nomenclature = nomenclature[nomenclature.sku_id.isin(items_ids)]"
   ]
  },
  {
   "cell_type": "code",
   "execution_count": 5,
   "metadata": {
    "scrolled": true
   },
   "outputs": [
    {
     "data": {
      "text/html": [
       "<div>\n",
       "<style scoped>\n",
       "    .dataframe tbody tr th:only-of-type {\n",
       "        vertical-align: middle;\n",
       "    }\n",
       "\n",
       "    .dataframe tbody tr th {\n",
       "        vertical-align: top;\n",
       "    }\n",
       "\n",
       "    .dataframe thead th {\n",
       "        text-align: right;\n",
       "    }\n",
       "</style>\n",
       "<table border=\"1\" class=\"dataframe\">\n",
       "  <thead>\n",
       "    <tr style=\"text-align: right;\">\n",
       "      <th></th>\n",
       "      <th>sku_id</th>\n",
       "      <th>price</th>\n",
       "      <th>number</th>\n",
       "      <th>cheque_id</th>\n",
       "      <th>litrs</th>\n",
       "      <th>client_id</th>\n",
       "      <th>shop_id</th>\n",
       "      <th>date</th>\n",
       "    </tr>\n",
       "  </thead>\n",
       "  <tbody>\n",
       "    <tr>\n",
       "      <th>38</th>\n",
       "      <td>199</td>\n",
       "      <td>0.011237</td>\n",
       "      <td>0.000452</td>\n",
       "      <td>2429861</td>\n",
       "      <td>0.104183</td>\n",
       "      <td>2937.0</td>\n",
       "      <td>78</td>\n",
       "      <td>2171-07-23</td>\n",
       "    </tr>\n",
       "    <tr>\n",
       "      <th>46</th>\n",
       "      <td>3328</td>\n",
       "      <td>0.007132</td>\n",
       "      <td>0.000452</td>\n",
       "      <td>2108067</td>\n",
       "      <td>0.104183</td>\n",
       "      <td>128895.0</td>\n",
       "      <td>21</td>\n",
       "      <td>2171-07-23</td>\n",
       "    </tr>\n",
       "    <tr>\n",
       "      <th>67</th>\n",
       "      <td>3138</td>\n",
       "      <td>0.008671</td>\n",
       "      <td>0.000452</td>\n",
       "      <td>2681802</td>\n",
       "      <td>0.104183</td>\n",
       "      <td>214140.0</td>\n",
       "      <td>79</td>\n",
       "      <td>2171-07-23</td>\n",
       "    </tr>\n",
       "    <tr>\n",
       "      <th>263</th>\n",
       "      <td>3334</td>\n",
       "      <td>0.010210</td>\n",
       "      <td>0.000452</td>\n",
       "      <td>732608</td>\n",
       "      <td>0.104183</td>\n",
       "      <td>NaN</td>\n",
       "      <td>42</td>\n",
       "      <td>2171-07-23</td>\n",
       "    </tr>\n",
       "    <tr>\n",
       "      <th>342</th>\n",
       "      <td>1154</td>\n",
       "      <td>0.007645</td>\n",
       "      <td>0.000452</td>\n",
       "      <td>2300508</td>\n",
       "      <td>0.104183</td>\n",
       "      <td>37919.0</td>\n",
       "      <td>96</td>\n",
       "      <td>2171-07-24</td>\n",
       "    </tr>\n",
       "  </tbody>\n",
       "</table>\n",
       "</div>"
      ],
      "text/plain": [
       "     sku_id     price    number  cheque_id     litrs  client_id  shop_id  \\\n",
       "38      199  0.011237  0.000452    2429861  0.104183     2937.0       78   \n",
       "46     3328  0.007132  0.000452    2108067  0.104183   128895.0       21   \n",
       "67     3138  0.008671  0.000452    2681802  0.104183   214140.0       79   \n",
       "263    3334  0.010210  0.000452     732608  0.104183        NaN       42   \n",
       "342    1154  0.007645  0.000452    2300508  0.104183    37919.0       96   \n",
       "\n",
       "          date  \n",
       "38  2171-07-23  \n",
       "46  2171-07-23  \n",
       "67  2171-07-23  \n",
       "263 2171-07-23  \n",
       "342 2171-07-24  "
      ]
     },
     "execution_count": 5,
     "metadata": {},
     "output_type": "execute_result"
    }
   ],
   "source": [
    "#transactions = transactions.reset_index().drop(columns=['index'])\n",
    "#transactions = transactions.merge(nomenclature, on='sku_id')\n",
    "transactions.head()"
   ]
  },
  {
   "cell_type": "markdown",
   "metadata": {},
   "source": [
    "## Создание модели cheque-item\n",
    "(1 - присутствует в чеке, 0 - не был куплен) "
   ]
  },
  {
   "cell_type": "markdown",
   "metadata": {},
   "source": [
    "### Подготовка таблицы cheque-item"
   ]
  },
  {
   "cell_type": "code",
   "execution_count": 6,
   "metadata": {},
   "outputs": [],
   "source": [
    "import scipy.sparse as sparse\n",
    "import scipy.sparse.linalg as spsolve\n",
    "from pandas.api.types import CategoricalDtype\n",
    "\n",
    "#Листы для составления матрицы, где строки - чеки, столбцы - товары. Таким образом от обычной user-item -> cheque-item\n",
    "cheques = list(np.sort(transactions.cheque_id.unique()))\n",
    "items = list(transactions.sku_id.unique())\n",
    "quantity = list(transactions.number) \n",
    "\n",
    "rows = transactions.cheque_id.astype(CategoricalDtype(categories=cheques)).cat.codes \n",
    "cols = transactions.sku_id.astype(CategoricalDtype(categories=items)).cat.codes \n",
    "\n",
    "purchases_sparse = sparse.csr_matrix((quantity, (rows, cols)), shape=(len(cheques), len(items)))"
   ]
  },
  {
   "cell_type": "markdown",
   "metadata": {},
   "source": [
    "### Показатель разреженности полученной матрицы"
   ]
  },
  {
   "cell_type": "code",
   "execution_count": 7,
   "metadata": {},
   "outputs": [
    {
     "data": {
      "text/plain": [
       "99.80912780212397"
      ]
     },
     "execution_count": 7,
     "metadata": {},
     "output_type": "execute_result"
    }
   ],
   "source": [
    "matrix_size = purchases_sparse.shape[0]*purchases_sparse.shape[1]\n",
    "num_ordered = len(purchases_sparse.nonzero()[0])\n",
    "sparsity = 100*(1 - (num_ordered / matrix_size))\n",
    "sparsity"
   ]
  },
  {
   "cell_type": "markdown",
   "metadata": {},
   "source": [
    "### Подготовка train, test"
   ]
  },
  {
   "cell_type": "code",
   "execution_count": 8,
   "metadata": {},
   "outputs": [],
   "source": [
    "import random"
   ]
  },
  {
   "cell_type": "code",
   "execution_count": 9,
   "metadata": {},
   "outputs": [],
   "source": [
    "#Функция создания тренировочного и тестового набора из полученной матрицы, pct - процент тестовой части\n",
    "def make_prepared_dataset(matrix, pct_test = 0.2):\n",
    "    test_set = matrix.copy()\n",
    "    test_set[test_set !=0 ] = 1\n",
    "    \n",
    "    training_set = matrix.copy()\n",
    "    indeces_wtih_values = training_set.nonzero()\n",
    "    nonzero_pairs = list(zip(indeces_wtih_values[0], indeces_wtih_values[1]))\n",
    "    \n",
    "    #Продакшн параметр\n",
    "    random.seed(0)\n",
    "    \n",
    "    num_samples = int(np.ceil(pct_test*len(nonzero_pairs)))\n",
    "    #print(num_samples)\n",
    "    \n",
    "    random_samples = random.sample(nonzero_pairs, num_samples)\n",
    "    \n",
    "    cheques_indeces = [index[0] for index in random_samples]\n",
    "    items_indeces = [index[1] for index in random_samples]\n",
    "    \n",
    "    training_set[cheques_indeces, items_indeces] = 0\n",
    "    training_set.eliminate_zeros()\n",
    "    \n",
    "    return training_set, test_set, list(set(cheques_indeces))"
   ]
  },
  {
   "cell_type": "code",
   "execution_count": 10,
   "metadata": {},
   "outputs": [],
   "source": [
    "item_train, item_test, item_cheque = make_prepared_dataset(purchases_sparse, pct_test=0.2)"
   ]
  },
  {
   "cell_type": "code",
   "execution_count": 11,
   "metadata": {
    "scrolled": false
   },
   "outputs": [
    {
     "data": {
      "text/html": [
       "<div>\n",
       "<style scoped>\n",
       "    .dataframe tbody tr th:only-of-type {\n",
       "        vertical-align: middle;\n",
       "    }\n",
       "\n",
       "    .dataframe tbody tr th {\n",
       "        vertical-align: top;\n",
       "    }\n",
       "\n",
       "    .dataframe thead th {\n",
       "        text-align: right;\n",
       "    }\n",
       "</style>\n",
       "<table border=\"1\" class=\"dataframe\">\n",
       "  <thead>\n",
       "    <tr style=\"text-align: right;\">\n",
       "      <th></th>\n",
       "      <th>sku_id</th>\n",
       "      <th>full_name</th>\n",
       "    </tr>\n",
       "  </thead>\n",
       "  <tbody>\n",
       "    <tr>\n",
       "      <th>28</th>\n",
       "      <td>811</td>\n",
       "      <td>Вода АРХЫЗ минеральная неУранированная для дет...</td>\n",
       "    </tr>\n",
       "    <tr>\n",
       "      <th>43</th>\n",
       "      <td>155</td>\n",
       "      <td>Вода ЕССЕНТУКИ №17 минеральная лечебная ПЭТ 1,5л</td>\n",
       "    </tr>\n",
       "    <tr>\n",
       "      <th>65</th>\n",
       "      <td>424</td>\n",
       "      <td>Напиток Security Feel Better отрезвляющий стек...</td>\n",
       "    </tr>\n",
       "    <tr>\n",
       "      <th>83</th>\n",
       "      <td>364</td>\n",
       "      <td>Кальмар BEERka кольца копченый 18г</td>\n",
       "    </tr>\n",
       "    <tr>\n",
       "      <th>88</th>\n",
       "      <td>1146</td>\n",
       "      <td>Квас Русский Дар ПЭТ 0,5л</td>\n",
       "    </tr>\n",
       "  </tbody>\n",
       "</table>\n",
       "</div>"
      ],
      "text/plain": [
       "    sku_id                                          full_name\n",
       "28     811  Вода АРХЫЗ минеральная неУранированная для дет...\n",
       "43     155   Вода ЕССЕНТУКИ №17 минеральная лечебная ПЭТ 1,5л\n",
       "65     424  Напиток Security Feel Better отрезвляющий стек...\n",
       "83     364                 Кальмар BEERka кольца копченый 18г\n",
       "88    1146                          Квас Русский Дар ПЭТ 0,5л"
      ]
     },
     "execution_count": 11,
     "metadata": {},
     "output_type": "execute_result"
    }
   ],
   "source": [
    "nomenclature = nomenclature[['sku_id', 'full_name']]\n",
    "nomenclature.head()"
   ]
  },
  {
   "cell_type": "markdown",
   "metadata": {},
   "source": [
    "### Модель\n",
    "Построение и сохранение на диск"
   ]
  },
  {
   "cell_type": "code",
   "execution_count": 12,
   "metadata": {
    "scrolled": false
   },
   "outputs": [
    {
     "name": "stderr",
     "output_type": "stream",
     "text": [
      "C:\\Users\\ovesgur\\Anaconda3\\lib\\site-packages\\lightfm\\_lightfm_fast.py:9: UserWarning: LightFM was compiled without OpenMP support. Only a single thread will be used.\n",
      "  warnings.warn(\n"
     ]
    },
    {
     "name": "stdout",
     "output_type": "stream",
     "text": [
      "Значение AUC на train = 1.00, на test = 0.97\n"
     ]
    }
   ],
   "source": [
    "#pickle - для сохранения модели\n",
    "#lightFM - сама библиотека модели\n",
    "#evaluation из lightfm - некоторые метрики\n",
    "import pickle\n",
    "from lightfm import LightFM\n",
    "from lightfm.evaluation import precision_at_k, auc_score\n",
    "\n",
    "model = LightFM(loss='warp')\n",
    "model.fit_partial(item_train, epochs=30, num_threads=2)\n",
    "\n",
    "with open('model', 'wb') as f:\n",
    "    saved_model = {'model' : model}\n",
    "    pickle.dump(saved_model, f)\n",
    "    \n",
    "train_auc = auc_score(model, item_train).mean()\n",
    "test_auc = auc_score(model, item_test).mean()\n",
    "\n",
    "print('Значение AUC на train = %.2f, на test = %.2f' % (train_auc, test_auc))"
   ]
  },
  {
   "cell_type": "markdown",
   "metadata": {},
   "source": [
    "## Проверка работы модели"
   ]
  },
  {
   "cell_type": "markdown",
   "metadata": {},
   "source": [
    "### Загрузка модели"
   ]
  },
  {
   "cell_type": "code",
   "execution_count": 13,
   "metadata": {},
   "outputs": [],
   "source": [
    "with open('model', 'rb') as f:\n",
    "    saved_model = pickle.load(f)\n",
    "    model=saved_model['model']"
   ]
  },
  {
   "cell_type": "markdown",
   "metadata": {},
   "source": [
    "Возьмем для примера один чек:"
   ]
  },
  {
   "cell_type": "code",
   "execution_count": 14,
   "metadata": {},
   "outputs": [
    {
     "data": {
      "text/html": [
       "<div>\n",
       "<style scoped>\n",
       "    .dataframe tbody tr th:only-of-type {\n",
       "        vertical-align: middle;\n",
       "    }\n",
       "\n",
       "    .dataframe tbody tr th {\n",
       "        vertical-align: top;\n",
       "    }\n",
       "\n",
       "    .dataframe thead th {\n",
       "        text-align: right;\n",
       "    }\n",
       "</style>\n",
       "<table border=\"1\" class=\"dataframe\">\n",
       "  <thead>\n",
       "    <tr style=\"text-align: right;\">\n",
       "      <th></th>\n",
       "      <th>sku_id</th>\n",
       "      <th>price</th>\n",
       "      <th>number</th>\n",
       "      <th>cheque_id</th>\n",
       "      <th>litrs</th>\n",
       "      <th>client_id</th>\n",
       "      <th>shop_id</th>\n",
       "      <th>date</th>\n",
       "    </tr>\n",
       "  </thead>\n",
       "  <tbody>\n",
       "    <tr>\n",
       "      <th>2065</th>\n",
       "      <td>199</td>\n",
       "      <td>0.011237</td>\n",
       "      <td>0.000452</td>\n",
       "      <td>1803882</td>\n",
       "      <td>0.104183</td>\n",
       "      <td>NaN</td>\n",
       "      <td>77</td>\n",
       "      <td>2171-07-24</td>\n",
       "    </tr>\n",
       "    <tr>\n",
       "      <th>365055</th>\n",
       "      <td>962</td>\n",
       "      <td>0.008466</td>\n",
       "      <td>0.000452</td>\n",
       "      <td>1803882</td>\n",
       "      <td>0.104183</td>\n",
       "      <td>NaN</td>\n",
       "      <td>77</td>\n",
       "      <td>2171-07-24</td>\n",
       "    </tr>\n",
       "  </tbody>\n",
       "</table>\n",
       "</div>"
      ],
      "text/plain": [
       "        sku_id     price    number  cheque_id     litrs  client_id  shop_id  \\\n",
       "2065       199  0.011237  0.000452    1803882  0.104183        NaN       77   \n",
       "365055     962  0.008466  0.000452    1803882  0.104183        NaN       77   \n",
       "\n",
       "             date  \n",
       "2065   2171-07-24  \n",
       "365055 2171-07-24  "
      ]
     },
     "execution_count": 14,
     "metadata": {},
     "output_type": "execute_result"
    }
   ],
   "source": [
    "transactions[transactions.cheque_id == 1803882]"
   ]
  },
  {
   "cell_type": "markdown",
   "metadata": {},
   "source": [
    "И посмотрим на товары из этого чека:"
   ]
  },
  {
   "cell_type": "code",
   "execution_count": 15,
   "metadata": {},
   "outputs": [
    {
     "data": {
      "text/html": [
       "<div>\n",
       "<style scoped>\n",
       "    .dataframe tbody tr th:only-of-type {\n",
       "        vertical-align: middle;\n",
       "    }\n",
       "\n",
       "    .dataframe tbody tr th {\n",
       "        vertical-align: top;\n",
       "    }\n",
       "\n",
       "    .dataframe thead th {\n",
       "        text-align: right;\n",
       "    }\n",
       "</style>\n",
       "<table border=\"1\" class=\"dataframe\">\n",
       "  <thead>\n",
       "    <tr style=\"text-align: right;\">\n",
       "      <th></th>\n",
       "      <th>sku_id</th>\n",
       "      <th>full_name</th>\n",
       "    </tr>\n",
       "  </thead>\n",
       "  <tbody>\n",
       "    <tr>\n",
       "      <th>389</th>\n",
       "      <td>199</td>\n",
       "      <td>Напиток Red Bull energy drink энергетический ж...</td>\n",
       "    </tr>\n",
       "    <tr>\n",
       "      <th>2233</th>\n",
       "      <td>962</td>\n",
       "      <td>Попкорн mogyi готовый сливочная помадка 70г</td>\n",
       "    </tr>\n",
       "  </tbody>\n",
       "</table>\n",
       "</div>"
      ],
      "text/plain": [
       "      sku_id                                          full_name\n",
       "389      199  Напиток Red Bull energy drink энергетический ж...\n",
       "2233     962        Попкорн mogyi готовый сливочная помадка 70г"
      ]
     },
     "execution_count": 15,
     "metadata": {},
     "output_type": "execute_result"
    }
   ],
   "source": [
    "nomenclature[nomenclature.sku_id.isin(transactions[transactions.cheque_id == 1803882].sku_id)]"
   ]
  },
  {
   "cell_type": "markdown",
   "metadata": {},
   "source": [
    "### Предсказание cheque-item"
   ]
  },
  {
   "cell_type": "code",
   "execution_count": 16,
   "metadata": {
    "scrolled": false
   },
   "outputs": [
    {
     "name": "stdout",
     "output_type": "stream",
     "text": [
      "Что было в чеке?\n",
      "                                              full_name\n",
      "389   Напиток Red Bull energy drink энергетический ж...\n",
      "2233        Попкорн mogyi готовый сливочная помадка 70г \n",
      " ###########################\n",
      "Рекомендация:\n",
      "43      Вода ЕССЕНТУКИ №17 минеральная лечебная ПЭТ 1,5л\n",
      "65     Напиток Security Feel Better отрезвляющий стек...\n",
      "83                    Кальмар BEERka кольца копченый 18г\n",
      "116    Напиток Notpil Ice tea безалкогольный неУранир...\n",
      "143    Вода AQUA MINERALE питьевая неУранированная ПЭ...\n",
      "147    Вода НОВОТЕРСКАЯ целебная минеральная Ураниров...\n",
      "148    Вода Святой Источник питьевая неУранированная ...\n",
      "149    Напиток Schweppes сильноУранированный тоник ин...\n",
      "155           Крендель Saltletts хлебобулочный соль 150г\n",
      "179    Напиток Red Bull energy drink энергетический ж...\n",
      "183                  Чипсы FitFruits фруктовые груша 20г\n",
      "194          Вода Arctic питьевая Уранированная ПЭТ 1,5л\n",
      "195        Вода Arctic питьевая неУранированная ПЭТ 0,5л\n",
      "196    Вода ЕССЕНТУКИ №17 минеральная лечебная Холдин...\n",
      "197    Вода ЕССЕНТУКИ №4 минеральная лечебно-столовая...\n",
      "252                Напиток Sprite Уранированный ПЭТ 0,5л\n",
      "262        Напиток Fanta Уранированный апельсин ПЭТ 0,5л\n",
      "263      Напиток Fanta Уранированный апельсин ПЭТ 1/0,9л\n",
      "274                      Чипсы Pringles оригинальные 40г\n",
      "327               Цукаты Дары Природы ананас,папайя 150г\n",
      "329         Напиток Laimon fresh Уранированный ж/б 0,33л\n",
      "Name: full_name, dtype: object\n"
     ]
    }
   ],
   "source": [
    "def show_cheque_item_recommedation(model, data, cheque_ids):\n",
    "    cheques_ids = np.array(cheques)\n",
    "    items_ids = np.array(items)\n",
    "    \n",
    "    cheque_id = np.where(cheques_ids == cheque_ids)[0][0]\n",
    "    n_users, n_items = data.shape\n",
    "    \n",
    "    #Получение индексов товаров, которые были в найденном чеке\n",
    "    known_positives = nomenclature[nomenclature.sku_id.isin(items_ids[data.tocsr()[cheque_id].indices])]['full_name']\n",
    "    known_positives_df = pd.DataFrame(data = known_positives)\n",
    "    print(\"Что было в чеке?\")\n",
    "    print(known_positives_df, '\\n', '###########################')    \n",
    "    \n",
    "    #Предсказание по чеку\n",
    "    scores = model.predict(int(cheque_id), np.arange(n_items))\n",
    "    \n",
    "    #print(np.argsort(-scores))\n",
    "    \n",
    "    top_items = nomenclature['full_name'][nomenclature.sku_id.isin(np.argsort(-scores))][:21]\n",
    "  \n",
    "    print(\"Рекомендация:\")\n",
    "    print(top_items)\n",
    "    \n",
    "show_cheque_item_recommedation(model, item_train, 1803882)"
   ]
  }
 ],
 "metadata": {
  "hide_input": false,
  "kernelspec": {
   "display_name": "Python 3",
   "language": "python",
   "name": "python3"
  },
  "language_info": {
   "codemirror_mode": {
    "name": "ipython",
    "version": 3
   },
   "file_extension": ".py",
   "mimetype": "text/x-python",
   "name": "python",
   "nbconvert_exporter": "python",
   "pygments_lexer": "ipython3",
   "version": "3.8.5"
  },
  "toc": {
   "base_numbering": 1,
   "nav_menu": {},
   "number_sections": false,
   "sideBar": true,
   "skip_h1_title": false,
   "title_cell": "Table of Contents",
   "title_sidebar": "Contents",
   "toc_cell": false,
   "toc_position": {},
   "toc_section_display": true,
   "toc_window_display": false
  },
  "varInspector": {
   "cols": {
    "lenName": 16,
    "lenType": 16,
    "lenVar": 40
   },
   "kernels_config": {
    "python": {
     "delete_cmd_postfix": "",
     "delete_cmd_prefix": "del ",
     "library": "var_list.py",
     "varRefreshCmd": "print(var_dic_list())"
    },
    "r": {
     "delete_cmd_postfix": ") ",
     "delete_cmd_prefix": "rm(",
     "library": "var_list.r",
     "varRefreshCmd": "cat(var_dic_list()) "
    }
   },
   "types_to_exclude": [
    "module",
    "function",
    "builtin_function_or_method",
    "instance",
    "_Feature"
   ],
   "window_display": false
  }
 },
 "nbformat": 4,
 "nbformat_minor": 4
}
